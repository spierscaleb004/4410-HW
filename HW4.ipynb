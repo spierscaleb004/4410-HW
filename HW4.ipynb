{
  "nbformat": 4,
  "nbformat_minor": 0,
  "metadata": {
    "colab": {
      "provenance": [],
      "authorship_tag": "ABX9TyMNc+g3oZVZHUwTir14pK7i",
      "include_colab_link": true
    },
    "kernelspec": {
      "name": "python3",
      "display_name": "Python 3"
    },
    "language_info": {
      "name": "python"
    }
  },
  "cells": [
    {
      "cell_type": "markdown",
      "metadata": {
        "id": "view-in-github",
        "colab_type": "text"
      },
      "source": [
        "<a href=\"https://colab.research.google.com/github/spierscaleb004/4410-HW/blob/main/HW4.ipynb\" target=\"_parent\"><img src=\"https://colab.research.google.com/assets/colab-badge.svg\" alt=\"Open In Colab\"/></a>"
      ]
    },
    {
      "cell_type": "code",
      "execution_count": 7,
      "metadata": {
        "colab": {
          "base_uri": "https://localhost:8080/",
          "height": 869
        },
        "id": "vrohU99lHYZj",
        "outputId": "c7ad92ad-6f6b-4fdb-e420-90889519ce43"
      },
      "outputs": [
        {
          "output_type": "stream",
          "name": "stdout",
          "text": [
            "Samples: 569 Features: 30\n",
            "Labels: [0 1]\n",
            "Training set size: (455, 30)\n",
            "Test set size: (114, 30)\n",
            "GNB Accuracy: 0.9736842105263158\n",
            "Confusion Matrix:\n",
            " [[40  3]\n",
            " [ 0 71]]\n",
            "Classification Report:\n",
            "               precision    recall  f1-score   support\n",
            "\n",
            "           0       1.00      0.93      0.96        43\n",
            "           1       0.96      1.00      0.98        71\n",
            "\n",
            "    accuracy                           0.97       114\n",
            "   macro avg       0.98      0.97      0.97       114\n",
            "weighted avg       0.97      0.97      0.97       114\n",
            "\n"
          ]
        },
        {
          "output_type": "display_data",
          "data": {
            "text/plain": [
              "<Figure size 600x500 with 2 Axes>"
            ],
            "image/png": "[encoded data removed]"
          },
          "metadata": {}
        },
        {
          "output_type": "stream",
          "name": "stdout",
          "text": [
            "GaussianNB Accuracy: 0.9737\n",
            "KNeighborsClassifier Accuracy: 0.9561\n",
            "LogisticRegression Accuracy: 0.9561\n",
            "SVC Accuracy: 0.9474\n"
          ]
        }
      ],
      "source": [
        "# Import all the libararies\n",
        "import numpy as np\n",
        "import matplotlib.pyplot as plt\n",
        "import seaborn as sns\n",
        "\n",
        "from sklearn.datasets import load_breast_cancer\n",
        "from sklearn.model_selection import train_test_split, KFold, cross_val_score\n",
        "from sklearn.naive_bayes import GaussianNB\n",
        "from sklearn.linear_model import LogisticRegression\n",
        "from sklearn.neighbors import KNeighborsClassifier\n",
        "from sklearn.svm import SVC\n",
        "from sklearn.metrics import confusion_matrix, classification_report, accuracy_score\n",
        "\n",
        "# Load the Dataset\n",
        "data = load_breast_cancer()\n",
        "x = data.data\n",
        "y = data.target\n",
        "\n",
        "# Check shape\n",
        "print(\"Samples:\", x.shape[0], \"Features:\", x.shape[1])\n",
        "print(\"Labels:\", np.unique(y))\n",
        "\n",
        "# Split\n",
        "x_train, x_test, y_train, y_test = train_test_split(x, y, test_size=0.2, random_state=42)\n",
        "\n",
        "print(\"Training set size:\", x_train.shape)\n",
        "print(\"Test set size:\", x_test.shape)\n",
        "\n",
        "# Create GNB Model\n",
        "nb = GaussianNB()\n",
        "\n",
        "# Train\n",
        "nb.fit(x_train, y_train)\n",
        "\n",
        "# Predict\n",
        "y_pred = nb.predict(x_test)\n",
        "\n",
        "# Evaluate\n",
        "print(\"GNB Accuracy:\", nb.score(x_test, y_test))\n",
        "\n",
        "# Confusion Matrix\n",
        "cm = confusion_matrix(y_test, y_pred)\n",
        "print(\"Confusion Matrix:\\n\", cm)\n",
        "\n",
        "# Classification Report\n",
        "cr = classification_report(y_test, y_pred)\n",
        "print(\"Classification Report:\\n\", cr)\n",
        "\n",
        "# Visualize Confusion matrix\n",
        "plt.figure(figsize=(6, 5))\n",
        "sns.heatmap(cm, annot=True, fmt='d', cmap='Blues',\n",
        "            xticklabels=data.target_names,\n",
        "            yticklabels=data.target_names)\n",
        "plt.title('GNB Confusion Matrix')\n",
        "plt.xlabel('Predicted')\n",
        "plt.ylabel('Actual')\n",
        "plt.show()\n",
        "\n",
        "# Compare\n",
        "estimators = {\n",
        "    'GaussianNB': nb,\n",
        "    'KNeighborsClassifier': KNeighborsClassifier(),\n",
        "    'LogisticRegression': LogisticRegression(solver='lbfgs', max_iter=10000),\n",
        "    'SVC': SVC(gamma='scale')\n",
        "}\n",
        "\n",
        "for name, model in estimators.items():\n",
        "    model.fit(x_train, y_train)\n",
        "    y_pred = model.predict(x_test)\n",
        "    acc = accuracy_score(y_test, y_pred)\n",
        "    print(f\"{name} Accuracy: {acc:.4f}\")"
      ]
    }
  ]
}